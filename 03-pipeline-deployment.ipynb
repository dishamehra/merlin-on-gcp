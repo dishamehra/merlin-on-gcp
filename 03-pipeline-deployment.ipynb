{
 "cells": [
  {
   "cell_type": "markdown",
   "id": "94715793",
   "metadata": {},
   "source": [
    "# 03 - Deploy and Run the Training Pipeline to Vertex AI\n",
    "\n",
    "The notebook covers the following tasks:\n",
    "\n",
    "1. Build the container image for the ETL and Training steps.\n",
    "2. Compile and upload the KFP pipelne to `Vertex AI`.\n",
    "2. Run the KFP pipeline using `Vertex Pipelines`.\n",
    "3. Execute the pipeline deployment CI/CD steps using `Cloud Build`."
   ]
  },
  {
   "cell_type": "markdown",
   "id": "a96c0ef4",
   "metadata": {},
   "source": [
    "## Setup"
   ]
  },
  {
   "cell_type": "code",
   "execution_count": null,
   "id": "6d43304c",
   "metadata": {},
   "outputs": [],
   "source": [
    "import os\n",
    "import kfp\n",
    "from src.kfp_pipelines import runner\n",
    "\n",
    "print(\"KFP Version:\", kfp.__version__)"
   ]
  },
  {
   "cell_type": "code",
   "execution_count": null,
   "id": "71de8f4d",
   "metadata": {},
   "outputs": [],
   "source": [
    "PROJECT = 'merlin-on-gcp'\n",
    "REGION = 'us-central1'\n",
    "BUCKET = 'merlin-on-gcp'\n",
    "VERTEX_SERVICE_ACCOUNT = f'vertex-sa-mlops@{PROJECT}.iam.gserviceaccount.com'\n",
    "\n",
    "VERSION = 'v1'\n",
    "MOVIES_DATASET_DISPLAY_NAME = 'movielens25m-movies'\n",
    "RATINGS_DATASET_DISPLAY_NAME = 'movielens25m-ratings'\n",
    "MODEL_DISPLAY_NAME = f'movielens25m-recommender-{VERSION}'\n",
    "PIPELINE_NAME = f'{MODEL_DISPLAY_NAME}-train-pipeline'"
   ]
  },
  {
   "cell_type": "markdown",
   "id": "4d810e85",
   "metadata": {},
   "source": [
    "## 1. Build Container Image"
   ]
  },
  {
   "cell_type": "code",
   "execution_count": null,
   "id": "9cec8d3a",
   "metadata": {},
   "outputs": [],
   "source": [
    "NVT_IMAGE_NAME = \"movielens-nvt0.5-tf2.4\"\n",
    "NVT_IMAGE_URI = f\"gcr.io/{PROJECT}/{NVT_IMAGE_NAME}\"\n",
    "print(NVT_IMAGE_URI)"
   ]
  },
  {
   "cell_type": "code",
   "execution_count": null,
   "id": "f0277c40",
   "metadata": {},
   "outputs": [],
   "source": [
    "! gcloud builds submit --tag {NVT_IMAGE_URI} . --timeout=45m --machine-type=e2-highcpu-8"
   ]
  },
  {
   "cell_type": "markdown",
   "id": "d20865eb",
   "metadata": {},
   "source": [
    "## 2. Compile and upload the KFP Pipeline "
   ]
  },
  {
   "cell_type": "markdown",
   "id": "249bbadb",
   "metadata": {},
   "source": [
    "### Set pipeline configurations"
   ]
  },
  {
   "cell_type": "code",
   "execution_count": null,
   "id": "190cc485",
   "metadata": {},
   "outputs": [],
   "source": [
    "os.environ[\"PROJECT\"] = PROJECT\n",
    "os.environ[\"REGION\"] =  REGION\n",
    "os.environ[\"GCS_LOCATION\"] = f\"gs://{BUCKET}/movielens25m\"\n",
    "os.environ[\"NVT_IMAGE_URI\"] = NVT_IMAGE_URI\n",
    "os.environ[\"ENABLE_CACHING\"] = \"0\"\n",
    "os.environ[\"MACHINE_TYPE\"] = \"n1-standard-4\"\n",
    "os.environ[\"ACCELERATOR_TYPE\"] = \"NVIDIA_TESLA_T4\"\n",
    "os.environ[\"ACCELERATOR_COUNT\"] = \"1\""
   ]
  },
  {
   "cell_type": "code",
   "execution_count": null,
   "id": "fd8824d4",
   "metadata": {},
   "outputs": [],
   "source": [
    "from src.kfp_pipelines import config\n",
    "import importlib\n",
    "importlib.reload(config)\n",
    "\n",
    "for key, value in config.__dict__.items():\n",
    "    if key.isupper(): print(f'{key}: {value}')"
   ]
  },
  {
   "cell_type": "markdown",
   "id": "da46bf00",
   "metadata": {},
   "source": [
    "### Compile pipeline"
   ]
  },
  {
   "cell_type": "code",
   "execution_count": null,
   "id": "ecec5065",
   "metadata": {},
   "outputs": [],
   "source": [
    "pipeline_definition_file = f'{config.PIPELINE_NAME}.json'\n",
    "runner.compile_pipeline(pipeline_definition_file)"
   ]
  },
  {
   "cell_type": "markdown",
   "id": "67cf06a1",
   "metadata": {},
   "source": [
    "### Upload pipeline to GCS"
   ]
  },
  {
   "cell_type": "code",
   "execution_count": null,
   "id": "91c90214",
   "metadata": {},
   "outputs": [],
   "source": [
    "PIPELINES_STORE = os.path.join(config.GCS_LOCATION, \"compiled_pipelines/\")\n",
    "\n",
    "! gsutil cp {pipeline_definition_file} {PIPELINES_STORE}\n",
    "! gsutil ls {PIPELINES_STORE}"
   ]
  },
  {
   "cell_type": "markdown",
   "id": "31fd1275",
   "metadata": {},
   "source": [
    "## 3. Run the KFP pipeline using Vertex Pipelines"
   ]
  },
  {
   "cell_type": "code",
   "execution_count": null,
   "id": "98d0c7af",
   "metadata": {},
   "outputs": [],
   "source": [
    "parameter_values = {}\n",
    "gcs_pipeline_definition_file = os.path.join(PIPELINES_STORE, pipeline_definition_file)\n",
    "\n",
    "_ = runner.run_pipeline(\n",
    "    gcs_pipeline_definition_file,\n",
    "    parameter_values=parameter_values,\n",
    ")"
   ]
  },
  {
   "cell_type": "markdown",
   "id": "bb0e6178",
   "metadata": {},
   "source": [
    "## 4. Execute the pipeline deployment CI/CD steps using Cloud Build."
   ]
  },
  {
   "cell_type": "markdown",
   "id": "470fb842",
   "metadata": {},
   "source": [
    "### Build CICD container image"
   ]
  },
  {
   "cell_type": "code",
   "execution_count": null,
   "id": "90ce32c5",
   "metadata": {},
   "outputs": [],
   "source": [
    "CICD_IMAGE_NAME = 'cicd:latest'\n",
    "CICD_IMAGE_URI = f\"gcr.io/{PROJECT}/{CICD_IMAGE_NAME}\"\n",
    "print(CICD_IMAGE_URI)"
   ]
  },
  {
   "cell_type": "code",
   "execution_count": null,
   "id": "3c82db89",
   "metadata": {},
   "outputs": [],
   "source": [
    "! gcloud builds submit --tag $CICD_IMAGE_URI build/. --timeout=15m --machine-type=e2-highcpu-8"
   ]
  },
  {
   "cell_type": "markdown",
   "id": "40e5ffd0",
   "metadata": {},
   "source": [
    "### Run CI/CD from pipeline deployment using Cloud Build "
   ]
  },
  {
   "cell_type": "code",
   "execution_count": null,
   "id": "c6d7ab19",
   "metadata": {},
   "outputs": [],
   "source": [
    "REPO_URL = \"https://github.com/ksalama/merlin-on-labs.git\" # Change to your github repo.\n",
    "BRANCH = \"main\"\n",
    "\n",
    "GCS_LOCATION = f\"gs://{BUCKET}/movielens25m\"\n",
    "VERSION = 'latest'\n",
    "PIPELINE_NAME = f'{MODEL_DISPLAY_NAME}-train-pipeline'\n",
    "PIPELINES_STORE = os.path.join(GCS_LOCATION, \"compiled_pipelines\")\n",
    "NVT_IMAGE_URI = f\"gcr.io/{PROJECT}/{NVT_IMAGE_NAME}:{VERSION}\"\n",
    "\n",
    "SUBSTITUTIONS=f\"\"\"\\\n",
    "_REPO_URL='{REPO_URL}',\\\n",
    "_BRANCH={BRANCH},\\\n",
    "_CICD_IMAGE_URI={CICD_IMAGE_URI},\\\n",
    "_PROJECT={PROJECT},\\\n",
    "_REGION={REGION},\\\n",
    "_GCS_LOCATION={GCS_LOCATION},\\\n",
    "_MOVIES_DATASET_DISPLAY_NAME={MOVIES_DATASET_DISPLAY_NAME},\\\n",
    "_RATINGS_DATASET_DISPLAY_NAME={RATINGS_DATASET_DISPLAY_NAME},\\\n",
    "_MODEL_DISPLAY_NAME={MODEL_DISPLAY_NAME},\\\n",
    "_NVT_IMAGE_URI={NVT_IMAGE_URI},\\\n",
    "_PIPELINE_NAME={PIPELINE_NAME},\\\n",
    "_PIPELINES_STORE={PIPELINES_STORE}\\\n",
    "\"\"\"\n",
    "\n",
    "! echo $SUBSTITUTIONS"
   ]
  },
  {
   "cell_type": "code",
   "execution_count": null,
   "id": "d92fa028",
   "metadata": {},
   "outputs": [],
   "source": [
    "! gcloud builds submit --no-source --timeout=60m --config build/pipeline-deployment.yaml --substitutions {SUBSTITUTIONS} --machine-type=e2-highcpu-8"
   ]
  }
 ],
 "metadata": {
  "environment": {
   "name": "common-cu110.m74",
   "type": "gcloud",
   "uri": "gcr.io/deeplearning-platform-release/base-cu110:m74"
  },
  "kernelspec": {
   "display_name": "Python 3",
   "language": "python",
   "name": "python3"
  },
  "language_info": {
   "codemirror_mode": {
    "name": "ipython",
    "version": 3
   },
   "file_extension": ".py",
   "mimetype": "text/x-python",
   "name": "python",
   "nbconvert_exporter": "python",
   "pygments_lexer": "ipython3",
   "version": "3.7.10"
  }
 },
 "nbformat": 4,
 "nbformat_minor": 5
}

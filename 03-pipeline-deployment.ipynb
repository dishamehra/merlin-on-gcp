{
 "cells": [
  {
   "cell_type": "markdown",
   "id": "43866ca0",
   "metadata": {},
   "source": [
    "# 03 - Deploy and Run the Training Pipeline to Vertex AI\n",
    "\n",
    "The notebook covers the following tasks:\n",
    "\n",
    "1. Build the container image for the ETL and Training steps.\n",
    "2. Compile and upload the KFP pipelne to `Vertex AI`.\n",
    "2. Run the KFP pipeline using `Vertex Pipelines`.\n",
    "3. Execute the pipeline deployment CI/CD steps using `Cloud Build`."
   ]
  },
  {
   "cell_type": "markdown",
   "id": "6d317d49",
   "metadata": {},
   "source": [
    "## Setup"
   ]
  },
  {
   "cell_type": "code",
   "execution_count": null,
   "id": "7f7b213f",
   "metadata": {},
   "outputs": [],
   "source": [
    "import os\n",
    "import kfp\n",
    "from src.kfp_pipelines import runner\n",
    "\n",
    "print(\"KFP Version:\", kfp.__version__)"
   ]
  },
  {
   "cell_type": "code",
   "execution_count": null,
   "id": "be105fe3",
   "metadata": {},
   "outputs": [],
   "source": [
    "PROJECT = 'merlin-on-gcp'\n",
    "REGION = 'us-central1'\n",
    "BUCKET = 'merlin-on-gcp'\n",
    "VERTEX_SERVICE_ACCOUNT = f'vertex-sa-mlops@{PROJECT}.iam.gserviceaccount.com'\n",
    "\n",
    "VERSION = 'v1'\n",
    "MOVIES_DATASET_DISPLAY_NAME = 'movielens25m-movies'\n",
    "RATINGS_DATASET_DISPLAY_NAME = 'movielens25m-ratings'\n",
    "MODEL_DISPLAY_NAME = f'movielens25m-recommender-{VERSION}'\n",
    "PIPELINE_NAME = f'{MODEL_DISPLAY_NAME}-train-pipeline'"
   ]
  },
  {
   "cell_type": "markdown",
   "id": "d78b903c",
   "metadata": {},
   "source": [
    "## 1. Build Container Image"
   ]
  },
  {
   "cell_type": "code",
   "execution_count": null,
   "id": "6aac65d5",
   "metadata": {},
   "outputs": [],
   "source": [
    "IMAGE_NAME = \"movielens-cuda11.0-tf2.4\"\n",
    "IMAGE_URI = f\"gcr.io/{PROJECT}/{IMAGE_NAME}\"\n",
    "print(IMAGE_URI)"
   ]
  },
  {
   "cell_type": "code",
   "execution_count": null,
   "id": "ec18792c",
   "metadata": {},
   "outputs": [],
   "source": [
    "! gcloud builds submit --tag {IMAGE_URI} . --timeout=45m --machine-type=e2-highcpu-8"
   ]
  },
  {
   "cell_type": "markdown",
   "id": "027e56ec",
   "metadata": {},
   "source": [
    "## 2. Compile and upload the KFP Pipeline "
   ]
  },
  {
   "cell_type": "markdown",
   "id": "8b087060",
   "metadata": {},
   "source": [
    "### Set pipeline configurations"
   ]
  },
  {
   "cell_type": "code",
   "execution_count": null,
   "id": "afc9a254",
   "metadata": {},
   "outputs": [],
   "source": [
    "os.environ[\"PROJECT\"] = PROJECT\n",
    "os.environ[\"REGION\"] =  REGION\n",
    "os.environ[\"GCS_LOCATION\"] = f\"gs://{BUCKET}/movielens25m\"\n",
    "os.environ[\"IMAGE_URI\"] = IMAGE_URI"
   ]
  },
  {
   "cell_type": "code",
   "execution_count": null,
   "id": "86ef20fe",
   "metadata": {},
   "outputs": [],
   "source": [
    "from src.kfp_pipelines import config\n",
    "import importlib\n",
    "importlib.reload(config)\n",
    "\n",
    "for key, value in config.__dict__.items():\n",
    "    if key.isupper(): print(f'{key}: {value}')"
   ]
  },
  {
   "cell_type": "markdown",
   "id": "24eafd8a",
   "metadata": {},
   "source": [
    "### Compile pipeline"
   ]
  },
  {
   "cell_type": "code",
   "execution_count": null,
   "id": "9efbd22a",
   "metadata": {},
   "outputs": [],
   "source": [
    "pipeline_definition_file = f'{config.PIPELINE_NAME}.json'\n",
    "runner.compile_pipeline(pipeline_definition_file)"
   ]
  },
  {
   "cell_type": "markdown",
   "id": "ff298e88",
   "metadata": {},
   "source": [
    "### Upload pipeline to GCS"
   ]
  },
  {
   "cell_type": "code",
   "execution_count": null,
   "id": "0fb15f05",
   "metadata": {},
   "outputs": [],
   "source": [
    "PIPELINES_STORE = os.path.join(config.GCS_LOCATION, \"compilies_pipelines/\")\n",
    "\n",
    "! gsutil cp {pipeline_definition_file} {PIPELINES_STORE}\n",
    "! gsutil ls {PIPELINES_STORE}"
   ]
  },
  {
   "cell_type": "markdown",
   "id": "ff85b7e4",
   "metadata": {},
   "source": [
    "## 3. Run the KFP pipeline using Vertex Pipelines"
   ]
  },
  {
   "cell_type": "code",
   "execution_count": null,
   "id": "9bdc043f",
   "metadata": {},
   "outputs": [],
   "source": [
    "parameter_values = {}\n",
    "gcs_pipeline_definition_file = os.path.join(PIPELINES_STORE, pipeline_definition_file)\n",
    "\n",
    "_ = runner.run_pipeline(\n",
    "    gcs_pipeline_definition_file,\n",
    "    parameter_values=parameter_values,\n",
    ")"
   ]
  },
  {
   "cell_type": "markdown",
   "id": "e9631f1d",
   "metadata": {},
   "source": [
    "## 4. Execute the pipeline deployment CI/CD steps using Cloud Build."
   ]
  },
  {
   "cell_type": "code",
   "execution_count": null,
   "id": "f56f8c7d",
   "metadata": {},
   "outputs": [],
   "source": []
  }
 ],
 "metadata": {
  "environment": {
   "name": "common-cu110.m74",
   "type": "gcloud",
   "uri": "gcr.io/deeplearning-platform-release/base-cu110:m74"
  },
  "kernelspec": {
   "display_name": "Python 3",
   "language": "python",
   "name": "python3"
  },
  "language_info": {
   "codemirror_mode": {
    "name": "ipython",
    "version": 3
   },
   "file_extension": ".py",
   "mimetype": "text/x-python",
   "name": "python",
   "nbconvert_exporter": "python",
   "pygments_lexer": "ipython3",
   "version": "3.7.10"
  }
 },
 "nbformat": 4,
 "nbformat_minor": 5
}

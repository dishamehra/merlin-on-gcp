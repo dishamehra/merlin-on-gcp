{
 "cells": [
  {
   "cell_type": "markdown",
   "id": "7324c30b",
   "metadata": {},
   "source": [
    "# 03 - Deploy and Run the Training Pipeline to Vertex AI\n",
    "\n",
    "The notebook covers the following tasks:\n",
    "\n",
    "1. Build the container image for the ETL and Training steps.\n",
    "2. Compile and upload the KFP pipelne to `Vertex AI`.\n",
    "2. Run the KFP pipeline using `Vertex Pipelines`.\n",
    "3. Execute the pipeline deployment CI/CD steps using `Cloud Build`."
   ]
  },
  {
   "cell_type": "markdown",
   "id": "ab1a639e",
   "metadata": {},
   "source": [
    "## Setup"
   ]
  },
  {
   "cell_type": "code",
   "execution_count": null,
   "id": "aff95529",
   "metadata": {},
   "outputs": [],
   "source": [
    "import os\n",
    "import kfp\n",
    "from src.kfp_pipelines import runner\n",
    "\n",
    "print(\"KFP Version:\", kfp.__version__)"
   ]
  },
  {
   "cell_type": "code",
   "execution_count": null,
   "id": "323ea4d5",
   "metadata": {},
   "outputs": [],
   "source": [
    "PROJECT = 'merlin-on-gcp'\n",
    "REGION = 'us-central1'\n",
    "BUCKET = 'merlin-on-gcp'\n",
    "VERTEX_SERVICE_ACCOUNT = f'vertex-sa-mlops@{PROJECT}.iam.gserviceaccount.com'\n",
    "\n",
    "VERSION = 'v1'\n",
    "MOVIES_DATASET_DISPLAY_NAME = 'movielens25m-movies'\n",
    "RATINGS_DATASET_DISPLAY_NAME = 'movielens25m-ratings'\n",
    "MODEL_DISPLAY_NAME = f'movielens25m-recommender-{VERSION}'\n",
    "PIPELINE_NAME = f'{MODEL_DISPLAY_NAME}-train-pipeline'"
   ]
  },
  {
   "cell_type": "markdown",
   "id": "c901e113",
   "metadata": {},
   "source": [
    "## 1. Build Container Image"
   ]
  },
  {
   "cell_type": "code",
   "execution_count": null,
   "id": "da931131",
   "metadata": {},
   "outputs": [],
   "source": [
    "NVT_IMAGE_NAME = \"movielens-nvt0.5-tf2.4\"\n",
    "NVT_IMAGE_URI = f\"gcr.io/{PROJECT}/{NVT_IMAGE_NAME}\"\n",
    "print(NVT_IMAGE_URI)"
   ]
  },
  {
   "cell_type": "code",
   "execution_count": null,
   "id": "98db4653",
   "metadata": {},
   "outputs": [],
   "source": [
    "! gcloud builds submit --tag {IMAGE_URI} . --timeout=45m --machine-type=e2-highcpu-8"
   ]
  },
  {
   "cell_type": "markdown",
   "id": "31530ffe",
   "metadata": {},
   "source": [
    "## 2. Compile and upload the KFP Pipeline "
   ]
  },
  {
   "cell_type": "markdown",
   "id": "3a568d70",
   "metadata": {},
   "source": [
    "### Set pipeline configurations"
   ]
  },
  {
   "cell_type": "code",
   "execution_count": null,
   "id": "0a641c22",
   "metadata": {},
   "outputs": [],
   "source": [
    "os.environ[\"PROJECT\"] = PROJECT\n",
    "os.environ[\"REGION\"] =  REGION\n",
    "os.environ[\"GCS_LOCATION\"] = f\"gs://{BUCKET}/movielens25m\"\n",
    "os.environ[\"NVT_IMAGE_URI\"] = NVT_IMAGE_URI"
   ]
  },
  {
   "cell_type": "code",
   "execution_count": null,
   "id": "47f9155c",
   "metadata": {},
   "outputs": [],
   "source": [
    "from src.kfp_pipelines import config\n",
    "import importlib\n",
    "importlib.reload(config)\n",
    "\n",
    "for key, value in config.__dict__.items():\n",
    "    if key.isupper(): print(f'{key}: {value}')"
   ]
  },
  {
   "cell_type": "markdown",
   "id": "7e1b39cd",
   "metadata": {},
   "source": [
    "### Compile pipeline"
   ]
  },
  {
   "cell_type": "code",
   "execution_count": null,
   "id": "39e2c6a8",
   "metadata": {},
   "outputs": [],
   "source": [
    "pipeline_definition_file = f'{config.PIPELINE_NAME}.json'\n",
    "runner.compile_pipeline(pipeline_definition_file)"
   ]
  },
  {
   "cell_type": "markdown",
   "id": "40bf2062",
   "metadata": {},
   "source": [
    "### Upload pipeline to GCS"
   ]
  },
  {
   "cell_type": "code",
   "execution_count": null,
   "id": "1863a875",
   "metadata": {},
   "outputs": [],
   "source": [
    "PIPELINES_STORE = os.path.join(config.GCS_LOCATION, \"compilies_pipelines/\")\n",
    "\n",
    "! gsutil cp {pipeline_definition_file} {PIPELINES_STORE}\n",
    "! gsutil ls {PIPELINES_STORE}"
   ]
  },
  {
   "cell_type": "markdown",
   "id": "ee5c2861",
   "metadata": {},
   "source": [
    "## 3. Run the KFP pipeline using Vertex Pipelines"
   ]
  },
  {
   "cell_type": "code",
   "execution_count": null,
   "id": "9d190edd",
   "metadata": {},
   "outputs": [],
   "source": [
    "parameter_values = {}\n",
    "gcs_pipeline_definition_file = os.path.join(PIPELINES_STORE, pipeline_definition_file)\n",
    "\n",
    "_ = runner.run_pipeline(\n",
    "    gcs_pipeline_definition_file,\n",
    "    parameter_values=parameter_values,\n",
    ")"
   ]
  },
  {
   "cell_type": "markdown",
   "id": "70f92377",
   "metadata": {},
   "source": [
    "## 4. Execute the pipeline deployment CI/CD steps using Cloud Build."
   ]
  },
  {
   "cell_type": "markdown",
   "id": "69a2b62d",
   "metadata": {},
   "source": [
    "### Build CICD container image"
   ]
  },
  {
   "cell_type": "code",
   "execution_count": null,
   "id": "0db944c4",
   "metadata": {},
   "outputs": [],
   "source": [
    "CICD_IMAGE_NAME = 'cicd:latest'\n",
    "CICD_IMAGE_URI = f\"gcr.io/{PROJECT}/{CICD_IMAGE_NAME}\"\n",
    "print(CICD_IMAGE_URI)"
   ]
  },
  {
   "cell_type": "code",
   "execution_count": null,
   "id": "17cfa59f",
   "metadata": {},
   "outputs": [],
   "source": [
    "! gcloud builds submit --tag $CICD_IMAGE_URI build/. --timeout=15m --machine-type=e2-highcpu-8"
   ]
  },
  {
   "cell_type": "markdown",
   "id": "a4cafb77",
   "metadata": {},
   "source": [
    "### Run CI/CD from pipeline deployment using Cloud Build "
   ]
  },
  {
   "cell_type": "code",
   "execution_count": null,
   "id": "a92cc294",
   "metadata": {},
   "outputs": [],
   "source": [
    "REPO_URL = \"https://github.com/ksalama/merlin-on-labs.git\" # Change to your github repo.\n",
    "BRANCH = \"main\"\n",
    "\n",
    "GCS_LOCATION = f\"gs://{BUCKET}/movielens25m\"\n",
    "VERSION = 'latest'\n",
    "PIPELINE_NAME = f'{MODEL_DISPLAY_NAME}-train-pipeline'\n",
    "PIPELINES_STORE = os.path.join(GCS_LOCATION, \"compiled_pipelines\")\n",
    "NVT_IMAGE_URI = f\"gcr.io/{PROJECT}/{NVT_IMAGE_NAME}:{VERSION}\"\n",
    "\n",
    "SUBSTITUTIONS=f\"\"\"\\\n",
    "_REPO_URL='{REPO_URL}',\\\n",
    "_BRANCH={BRANCH},\\\n",
    "_CICD_IMAGE_URI={CICD_IMAGE_URI},\\\n",
    "_PROJECT={PROJECT},\\\n",
    "_REGION={REGION},\\\n",
    "_GCS_LOCATION={GCS_LOCATION},\\\n",
    "_MOVIES_DATASET_DISPLAY_NAME={MOVIES_DATASET_DISPLAY_NAME},\\\n",
    "_RATINGS_DATASET_DISPLAY_NAME={RATINGS_DATASET_DISPLAY_NAME},\\\n",
    "_MODEL_DISPLAY_NAME={MODEL_DISPLAY_NAME},\\\n",
    "_NVT_IMAGE_URI={NVT_IMAGE_URI},\\\n",
    "_PIPELINE_NAME={PIPELINE_NAME},\\\n",
    "_PIPELINES_STORE={PIPELINES_STORE}\\\n",
    "\"\"\"\n",
    "\n",
    "! echo $SUBSTITUTIONS"
   ]
  },
  {
   "cell_type": "code",
   "execution_count": null,
   "id": "c8c1cc29",
   "metadata": {},
   "outputs": [],
   "source": [
    "! gcloud builds submit --no-source --timeout=60m --config build/pipeline-deployment.yaml --substitutions {SUBSTITUTIONS} --machine-type=e2-highcpu-8"
   ]
  }
 ],
 "metadata": {
  "environment": {
   "name": "common-cu110.m74",
   "type": "gcloud",
   "uri": "gcr.io/deeplearning-platform-release/base-cu110:m74"
  },
  "kernelspec": {
   "display_name": "Python 3",
   "language": "python",
   "name": "python3"
  },
  "language_info": {
   "codemirror_mode": {
    "name": "ipython",
    "version": 3
   },
   "file_extension": ".py",
   "mimetype": "text/x-python",
   "name": "python",
   "nbconvert_exporter": "python",
   "pygments_lexer": "ipython3",
   "version": "3.7.10"
  }
 },
 "nbformat": 4,
 "nbformat_minor": 5
}

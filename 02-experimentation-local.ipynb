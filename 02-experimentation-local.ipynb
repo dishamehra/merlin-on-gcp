{
 "cells": [
  {
   "cell_type": "markdown",
   "id": "6058ed36",
   "metadata": {},
   "source": [
    "# 02 - Experimentation - Local\n",
    "\n",
    "This notebook covers the following steps:\n",
    "\n",
    "1. Preparing the data using `NVTabular`.\n",
    "2. Train and evaluate the `TensorFlow` model.\n",
    "3. Export a `TensorFlow` model."
   ]
  },
  {
   "cell_type": "markdown",
   "id": "1480a704",
   "metadata": {},
   "source": [
    "## Setup"
   ]
  },
  {
   "cell_type": "code",
   "execution_count": null,
   "id": "bf381264",
   "metadata": {},
   "outputs": [],
   "source": [
    "%env PROTOCOL_BUFFERS_PYTHON_IMPLEMENTATION=python\n",
    "%env TF_MEMORY_ALLOCATION=0.7"
   ]
  },
  {
   "cell_type": "code",
   "execution_count": null,
   "id": "1728e014",
   "metadata": {},
   "outputs": [],
   "source": [
    "import os\n",
    "import logging\n",
    "from datetime import datetime\n",
    "\n",
    "import nvtabular as nvt\n",
    "import tensorflow as tf\n",
    "\n",
    "from src.common import features, utils\n",
    "from src.data_preprocessing import etl\n",
    "from src.model_training import trainer\n",
    "\n",
    "logging.getLogger().setLevel(logging.INFO)\n",
    "tf.get_logger().setLevel('INFO')\n",
    "\n",
    "from google.protobuf.internal import api_implementation\n",
    "print(\"protobuf implementation type:\", api_implementation.Type())\n",
    "print(\"TensorFlow:\", tf.__version__)"
   ]
  },
  {
   "cell_type": "code",
   "execution_count": null,
   "id": "26aaa1ed",
   "metadata": {},
   "outputs": [],
   "source": [
    "PROJECT = 'merlin-on-gcp'\n",
    "REGION = 'us-central1'\n",
    "BUCKET = 'merlin-on-gcp'\n",
    "\n",
    "MOVIES_CSV_DATASET_LOCATION = f\"gs://{BUCKET}/movielens25m/dataset/movies.csv\"\n",
    "RATINGS_CSV_DATASET_LOCATION = f\"gs://{BUCKET}/movielens25m/dataset/ratings.csv\"\n",
    "\n",
    "MODEL_DISPLAY_NAME = f'movielens25m-recommender'\n",
    "\n",
    "LOCAL_WORKSPACE = '_workspace'\n",
    "WORKSPACE = f\"gs://{BUCKET}/movielens25m\"\n",
    "EXPERIMENT_ARTIFACTS_DIR = os.path.join(WORKSPACE, 'experiments')\n",
    "\n",
    "TENSORBOARD_DISPLAY_NAME = f'tb-{PROJECT}'\n",
    "EXPERIMENT_NAME = f'{MODEL_DISPLAY_NAME}-experiment'"
   ]
  },
  {
   "cell_type": "markdown",
   "id": "77c94b7f",
   "metadata": {},
   "source": [
    "## Initialize Experiment"
   ]
  },
  {
   "cell_type": "code",
   "execution_count": null,
   "id": "5d9acc73",
   "metadata": {},
   "outputs": [],
   "source": [
    "REMOVE_EXPERIMENT_ARTIFACTS = False\n",
    "if tf.io.gfile.exists(EXPERIMENT_ARTIFACTS_DIR) and REMOVE_EXPERIMENT_ARTIFACTS:\n",
    "    print(\"Removing previous experiment artifacts...\")\n",
    "    tf.io.gfile.rmtree(EXPERIMENT_ARTIFACTS_DIR)\n",
    "\n",
    "if not tf.io.gfile.exists(EXPERIMENT_ARTIFACTS_DIR):\n",
    "    print(\"Creating new experiment artifacts directory...\")\n",
    "    tf.io.gfile.mkdir(EXPERIMENT_ARTIFACTS_DIR)\n",
    "\n",
    "print(\"Preparing local workspace...\")\n",
    "if tf.io.gfile.exists(LOCAL_WORKSPACE):\n",
    "    tf.io.gfile.rmtree(LOCAL_WORKSPACE)\n",
    "tf.io.gfile.mkdir(LOCAL_WORKSPACE)\n",
    "    \n",
    "print(\"Workspace is ready.\")\n",
    "\n",
    "run_id = f\"run-local-{datetime.now().strftime('%Y%m%d%H%M%S')}\"\n",
    "EXPERIMENT_RUN_DIR = os.path.join(EXPERIMENT_ARTIFACTS_DIR, EXPERIMENT_NAME, run_id)\n",
    "print(\"Experiment run directory:\", EXPERIMENT_RUN_DIR)"
   ]
  },
  {
   "cell_type": "markdown",
   "id": "1b35b889",
   "metadata": {},
   "source": [
    "## 1. Preparing the data using NVTabular"
   ]
  },
  {
   "cell_type": "code",
   "execution_count": null,
   "id": "8bba8574",
   "metadata": {},
   "outputs": [],
   "source": [
    "ETL_OUTPUT_DIR = os.path.join(EXPERIMENT_RUN_DIR, 'etl_output')"
   ]
  },
  {
   "cell_type": "code",
   "execution_count": null,
   "id": "6ae444c5",
   "metadata": {},
   "outputs": [],
   "source": [
    "transformed_train_dataset, transformed_test_dataset, transform_workflow = etl.run_etl( \n",
    "    MOVIES_CSV_DATASET_LOCATION, \n",
    "    RATINGS_CSV_DATASET_LOCATION)"
   ]
  },
  {
   "cell_type": "code",
   "execution_count": null,
   "id": "b6bf378c",
   "metadata": {},
   "outputs": [],
   "source": [
    "transformed_test_dataset_dir = os.path.join(ETL_OUTPUT_DIR, \"transformed_data/test\")\n",
    "transformed_train_dataset_dir = os.path.join(ETL_OUTPUT_DIR, \"transformed_data/train\")\n",
    "local_transform_workflow_dir = os.path.join(LOCAL_WORKSPACE, 'transform_workflow')\n",
    "\n",
    "print(f\"Writting transformed training data to {transformed_train_dataset_dir}\")\n",
    "transformed_train_dataset.to_parquet(\n",
    "    output_path=transformed_train_dataset_dir,\n",
    "    shuffle=nvt.io.Shuffle.PER_PARTITION,\n",
    "    cats=features.CATEGORICAL_FEATURE_NAMES,\n",
    "    labels=features.TARGET_FEATURE_NAME,\n",
    "    dtypes=features.get_dtype_dict(),\n",
    ")\n",
    "print(\"Train data parquet files are written.\")\n",
    "\n",
    "print(f\"Writting transformed training data to {transformed_test_dataset_dir}\")\n",
    "transformed_test_dataset.to_parquet(\n",
    "    output_path=transformed_test_dataset_dir,\n",
    "    shuffle=False,\n",
    "    cats=features.CATEGORICAL_FEATURE_NAMES,\n",
    "    labels=features.TARGET_FEATURE_NAME,\n",
    "    dtypes=features.get_dtype_dict(),\n",
    ")\n",
    "print(\"Test data parquet files are written.\")\n",
    "\n",
    "logging.info(\"Saving transformation workflow...\")\n",
    "transform_workflow.save(local_transform_workflow_dir)\n",
    "logging.info(\"Transformation workflow is saved.\")\n",
    "\n",
    "print(\"Uploading trandorm workflow to Cloud Storage...\")\n",
    "utils.upload_directory(\n",
    "    local_transform_workflow_dir, \n",
    "    os.path.join(ETL_OUTPUT_DIR, 'transform_workflow')\n",
    ")\n",
    "try:\n",
    "    tf.io.gfile.rmtree(local_transform_workflow_dir)\n",
    "    tf.io.gfile.rmtree(\"categories\")\n",
    "except: pass\n",
    "print(\"Transformation uploaded to Cloud Storage.\")"
   ]
  },
  {
   "cell_type": "code",
   "execution_count": null,
   "id": "846dd33d",
   "metadata": {},
   "outputs": [],
   "source": [
    "import gc\n",
    "del transformed_train_dataset, transformed_test_dataset, transform_workflow\n",
    "gc.collect()"
   ]
  },
  {
   "cell_type": "code",
   "execution_count": null,
   "id": "5fac26a8",
   "metadata": {},
   "outputs": [],
   "source": [
    "!gsutil ls {ETL_OUTPUT_DIR}"
   ]
  },
  {
   "cell_type": "markdown",
   "id": "7b6d026b",
   "metadata": {},
   "source": [
    "## 2. Train a TensorFlow model"
   ]
  },
  {
   "cell_type": "code",
   "execution_count": null,
   "id": "390510f9",
   "metadata": {},
   "outputs": [],
   "source": [
    "EXPORT_DIR = os.path.join(EXPERIMENT_RUN_DIR, 'model')"
   ]
  },
  {
   "cell_type": "code",
   "execution_count": null,
   "id": "06c03d68",
   "metadata": {},
   "outputs": [],
   "source": [
    "LOCAL_DATA_DIR = os.path.join(LOCAL_WORKSPACE, 'data')\n",
    "LOCAL_TRAIN_DATA_DIR = os.path.join(LOCAL_DATA_DIR, 'train')\n",
    "LOCAL_TEST_DATA_DIR = os.path.join(LOCAL_DATA_DIR, 'test')\n",
    "LOCAL_MODEL_DIR = os.path.join(LOCAL_WORKSPACE, 'exported_model')\n",
    "\n",
    "tf.io.gfile.mkdir(LOCAL_DATA_DIR)\n",
    "tf.io.gfile.mkdir(LOCAL_TRAIN_DATA_DIR)\n",
    "tf.io.gfile.mkdir(LOCAL_TEST_DATA_DIR)\n",
    "tf.io.gfile.mkdir(LOCAL_MODEL_DIR)"
   ]
  },
  {
   "cell_type": "markdown",
   "id": "229f94d9",
   "metadata": {},
   "source": [
    "### Prepare experiment parameters"
   ]
  },
  {
   "cell_type": "code",
   "execution_count": null,
   "id": "6f8878c0",
   "metadata": {},
   "outputs": [],
   "source": [
    "hyperparams = {\n",
    "    'learning_rate': 0.001,\n",
    "    'batch_size': 1024 * 32,\n",
    "    'hidden_units': [128, 128],\n",
    "    'num_epochs': 1\n",
    "}"
   ]
  },
  {
   "cell_type": "markdown",
   "id": "42f16818",
   "metadata": {},
   "source": [
    "### Download the data locally"
   ]
  },
  {
   "cell_type": "code",
   "execution_count": null,
   "id": "a0fc9635",
   "metadata": {},
   "outputs": [],
   "source": [
    "utils.copy_files(os.path.join(ETL_OUTPUT_DIR, 'transformed_data', 'train', '*.parquet'), LOCAL_TRAIN_DATA_DIR)\n",
    "utils.copy_files(os.path.join(ETL_OUTPUT_DIR, 'transformed_data', 'test', '*.parquet'), LOCAL_TEST_DATA_DIR)\n",
    "utils.download_directory(os.path.join(ETL_OUTPUT_DIR, 'transform_workflow'), LOCAL_WORKSPACE)\n",
    "print(\"Transformed data and transform workflow are downloaded.\")"
   ]
  },
  {
   "cell_type": "markdown",
   "id": "32c84557",
   "metadata": {},
   "source": [
    "### Train the model"
   ]
  },
  {
   "cell_type": "code",
   "execution_count": null,
   "id": "053b379c",
   "metadata": {},
   "outputs": [],
   "source": [
    "nvt_workflow = nvt.Workflow.load(os.path.join(LOCAL_WORKSPACE, 'transform_workflow'))"
   ]
  },
  {
   "cell_type": "code",
   "execution_count": null,
   "id": "1686ed3e",
   "metadata": {},
   "outputs": [],
   "source": [
    "recommendation_model = trainer.train(\n",
    "    train_data_file_pattern=os.path.join(LOCAL_TRAIN_DATA_DIR, '*.parquet'),\n",
    "    nvt_workflow=nvt_workflow,\n",
    "    hyperparams=hyperparams\n",
    ")"
   ]
  },
  {
   "cell_type": "markdown",
   "id": "39569839",
   "metadata": {},
   "source": [
    "### Evaluate the model"
   ]
  },
  {
   "cell_type": "code",
   "execution_count": null,
   "id": "b570538c",
   "metadata": {},
   "outputs": [],
   "source": [
    "eval_loss, eval_mse = trainer.evaluate(\n",
    "    recommendation_model,\n",
    "    eval_data_file_pattern=os.path.join(LOCAL_TEST_DATA_DIR, '*.parquet'),\n",
    "    hyperparams=hyperparams\n",
    ")"
   ]
  },
  {
   "cell_type": "markdown",
   "id": "f063068a",
   "metadata": {},
   "source": [
    "### Export the model"
   ]
  },
  {
   "cell_type": "code",
   "execution_count": null,
   "id": "b3966e18",
   "metadata": {},
   "outputs": [],
   "source": [
    "trainer.export(\n",
    "    recommendation_model=recommendation_model,\n",
    "    nvt_workflow=nvt_workflow,\n",
    "    model_name=MODEL_DISPLAY_NAME,\n",
    "    export_dir=LOCAL_MODEL_DIR\n",
    ")"
   ]
  },
  {
   "cell_type": "code",
   "execution_count": null,
   "id": "fe255bf4",
   "metadata": {},
   "outputs": [],
   "source": [
    "utils.upload_directory(LOCAL_MODEL_DIR, EXPORT_DIR)"
   ]
  },
  {
   "cell_type": "code",
   "execution_count": null,
   "id": "8fd9fc20",
   "metadata": {},
   "outputs": [],
   "source": [
    "!gsutil ls {EXPORT_DIR}"
   ]
  },
  {
   "cell_type": "code",
   "execution_count": null,
   "id": "e3464a15",
   "metadata": {},
   "outputs": [],
   "source": []
  }
 ],
 "metadata": {
  "environment": {
   "name": "common-cu110.m73",
   "type": "gcloud",
   "uri": "gcr.io/deeplearning-platform-release/base-cu110:m73"
  },
  "kernelspec": {
   "display_name": "nvt-11-0",
   "language": "python",
   "name": "nvt-11-0"
  },
  "language_info": {
   "codemirror_mode": {
    "name": "ipython",
    "version": 3
   },
   "file_extension": ".py",
   "mimetype": "text/x-python",
   "name": "python",
   "nbconvert_exporter": "python",
   "pygments_lexer": "ipython3",
   "version": "3.8.10"
  }
 },
 "nbformat": 4,
 "nbformat_minor": 5
}

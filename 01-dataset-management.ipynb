{
 "cells": [
  {
   "cell_type": "markdown",
   "id": "0370956a",
   "metadata": {},
   "source": [
    "# 01 - Dataset management\n",
    "\n",
    "The [MovieLens25M](https://grouplens.org/datasets/movielens/25m/) is a popular dataset for recommender systems and is used in academic publications. The dataset contains 25M movie ratings for 62,000 movies given by 162,000 users. Many projects use only the user/item/rating information of MovieLens, but the original dataset provides metadata for the movies, as well. For example, which genres a movie has. Although we may not improve state-of-the-art results with our neural network architecture in this example, we will use the metadata to show how to multi-hot encode the categorical features.\n",
    "\n",
    "This notebook covers the following steps:\n",
    "1. Copy the `movielens` dataset to Cloud Storage\n",
    "2. Create Vertex AI Dataset resouces"
   ]
  },
  {
   "cell_type": "markdown",
   "id": "e819596f",
   "metadata": {},
   "source": [
    "## Setup"
   ]
  },
  {
   "cell_type": "code",
   "execution_count": null,
   "id": "eb2a4dcb",
   "metadata": {},
   "outputs": [],
   "source": [
    "import os\n",
    "import cudf \n",
    "import tensorflow.io as tf_io\n",
    "from nvtabular.utils import download_file\n",
    "from google.cloud import aiplatform as vertex_ai"
   ]
  },
  {
   "cell_type": "code",
   "execution_count": null,
   "id": "a8935ca6",
   "metadata": {},
   "outputs": [],
   "source": [
    "PROJECT = 'merlin-on-gcp'\n",
    "REGION = 'us-central1'\n",
    "BUCKET = 'merlin-on-gcp'\n",
    "\n",
    "WORKSPACE = f\"gs://{BUCKET}/movielens25m\"\n",
    "\n",
    "MOVIES_DATASET_DISPLAY_NAME = 'movielens25m-movies'\n",
    "RATINGS_DATASET_DISPLAY_NAME = 'movielens25m-ratings'"
   ]
  },
  {
   "cell_type": "code",
   "execution_count": null,
   "id": "ba6618cf",
   "metadata": {},
   "outputs": [],
   "source": [
    "CLEAN_WORKSPACE = True\n",
    "\n",
    "if CLEAN_WORKSPACE and tf_io.gfile.exists(WORKSPACE):\n",
    "    print(\"Cleaning up the workspace...\")\n",
    "    tf_io.gfile.rmtree(WORKSPACE)\n",
    "\n",
    "if not tf_io.gfile.exists(WORKSPACE):\n",
    "    print(\"Creating a new workspace...\")\n",
    "    tf_io.gfile.mkdir(WORKSPACE)\n",
    "\n",
    "print(\"Workspace is ready.\")"
   ]
  },
  {
   "cell_type": "markdown",
   "id": "e5826e5a",
   "metadata": {},
   "source": [
    "## 1. Copy the Dataset to Cloud Storage"
   ]
  },
  {
   "cell_type": "markdown",
   "id": "1a245dc4",
   "metadata": {},
   "source": [
    "### Download the dataset"
   ]
  },
  {
   "cell_type": "code",
   "execution_count": null,
   "id": "95983395",
   "metadata": {},
   "outputs": [],
   "source": [
    "download_file(\n",
    "    \"http://files.grouplens.org/datasets/movielens/ml-25m.zip\",\n",
    "    \"ml-25m.zip\"\n",
    ")"
   ]
  },
  {
   "cell_type": "code",
   "execution_count": null,
   "id": "b083a47f",
   "metadata": {},
   "outputs": [],
   "source": [
    "!rm ml-25m.zip\n",
    "!ls ml-25m"
   ]
  },
  {
   "cell_type": "markdown",
   "id": "9c869ce1",
   "metadata": {},
   "source": [
    "### Display sample data"
   ]
  },
  {
   "cell_type": "code",
   "execution_count": null,
   "id": "72b7510d",
   "metadata": {},
   "outputs": [],
   "source": [
    "movies = cudf.read_csv(\"ml-25m/movies.csv\")\n",
    "movies.head()"
   ]
  },
  {
   "cell_type": "code",
   "execution_count": null,
   "id": "5f0337c3",
   "metadata": {},
   "outputs": [],
   "source": [
    "ratings = cudf.read_csv(\"ml-25m/ratings.csv\")\n",
    "ratings.head()"
   ]
  },
  {
   "cell_type": "markdown",
   "id": "ef42d6ba",
   "metadata": {},
   "source": [
    "### Upload CSV data files to Cloud Storage"
   ]
  },
  {
   "cell_type": "code",
   "execution_count": null,
   "id": "b9f2bce5",
   "metadata": {},
   "outputs": [],
   "source": [
    "MOVIES_GCS_LOCATION = os.path.join(WORKSPACE, \"dataset\", \"movies.csv\")\n",
    "RATINGS_GCS_LOCATION = os.path.join(WORKSPACE, \"dataset\", \"ratings.csv\")\n",
    "\n",
    "!gsutil cp ml-25m/movies.csv {MOVIES_GCS_LOCATION}\n",
    "!gsutil cp ml-25m/ratings.csv {RATINGS_GCS_LOCATION}\n",
    "!rm -r ml-25m"
   ]
  },
  {
   "cell_type": "markdown",
   "id": "303e767e",
   "metadata": {},
   "source": [
    "## 2. Create Vertex AI Dataset Resources"
   ]
  },
  {
   "cell_type": "code",
   "execution_count": null,
   "id": "7b92ed22",
   "metadata": {},
   "outputs": [],
   "source": [
    "vertex_ai.init(\n",
    "    project=PROJECT,\n",
    "    location=REGION,\n",
    "     staging_bucket=BUCKET,\n",
    ")"
   ]
  },
  {
   "cell_type": "code",
   "execution_count": null,
   "id": "9f9dd4eb",
   "metadata": {},
   "outputs": [],
   "source": [
    "vertex_ai.TabularDataset.create(\n",
    "    display_name=MOVIES_DATASET_DISPLAY_NAME, gcs_source=MOVIES_GCS_LOCATION)"
   ]
  },
  {
   "cell_type": "code",
   "execution_count": null,
   "id": "1a2a6592",
   "metadata": {},
   "outputs": [],
   "source": [
    "vertex_ai.TabularDataset.create(\n",
    "    display_name=RATINGS_DATASET_DISPLAY_NAME, gcs_source=RATINGS_GCS_LOCATION)"
   ]
  },
  {
   "cell_type": "code",
   "execution_count": null,
   "id": "35cb8751",
   "metadata": {},
   "outputs": [],
   "source": [
    "vertex_datasets = vertex_ai.TabularDataset.list()\n",
    "for vertex_dataset in vertex_datasets:\n",
    "    print(\"Dataset display name:\", vertex_dataset.display_name)\n",
    "    print(\"Dataset gcs location\",  vertex_dataset.gca_resource.metadata['inputConfig']['gcsSource']['uri'])\n",
    "    print()"
   ]
  },
  {
   "cell_type": "code",
   "execution_count": null,
   "id": "1812dabb",
   "metadata": {},
   "outputs": [],
   "source": []
  }
 ],
 "metadata": {
  "environment": {
   "name": "common-cu110.m71",
   "type": "gcloud",
   "uri": "gcr.io/deeplearning-platform-release/base-cu110:m71"
  },
  "kernelspec": {
   "display_name": "nvt-11-0",
   "language": "python",
   "name": "nvt-11-0"
  },
  "language_info": {
   "codemirror_mode": {
    "name": "ipython",
    "version": 3
   },
   "file_extension": ".py",
   "mimetype": "text/x-python",
   "name": "python",
   "nbconvert_exporter": "python",
   "pygments_lexer": "ipython3",
   "version": "3.8.10"
  }
 },
 "nbformat": 4,
 "nbformat_minor": 5
}

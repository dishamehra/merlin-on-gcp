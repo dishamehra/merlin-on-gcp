{
 "cells": [
  {
   "cell_type": "markdown",
   "id": "57021b67",
   "metadata": {},
   "source": [
    "# 01 - Dataset management\n",
    "\n",
    "The [MovieLens25M](https://grouplens.org/datasets/movielens/25m/) is a popular dataset for recommender systems and is used in academic publications. The dataset contains 25M movie ratings for 62,000 movies given by 162,000 users. Many projects use only the user/item/rating information of MovieLens, but the original dataset provides metadata for the movies, as well. For example, which genres a movie has. Although we may not improve state-of-the-art results with our neural network architecture in this example, we will use the metadata to show how to multi-hot encode the categorical features.\n",
    "\n",
    "This notebook covers the following steps:\n",
    "1. Copy the `movielens` dataset to Cloud Storage\n",
    "2. Create Vertex AI Dataset resouces"
   ]
  },
  {
   "cell_type": "markdown",
   "id": "d4f30d87",
   "metadata": {},
   "source": [
    "## Setup"
   ]
  },
  {
   "cell_type": "code",
   "execution_count": null,
   "id": "896e5700",
   "metadata": {},
   "outputs": [],
   "source": [
    "import os\n",
    "import cudf \n",
    "import tensorflow.io as tf_io\n",
    "from nvtabular.utils import download_file\n",
    "from google.cloud import aiplatform as vertex_ai"
   ]
  },
  {
   "cell_type": "code",
   "execution_count": null,
   "id": "890f7a7a",
   "metadata": {},
   "outputs": [],
   "source": [
    "PROJECT = 'merlin-on-gcp'\n",
    "REGION = 'us-central1'\n",
    "BUCKET = 'merlin-on-gcp'\n",
    "\n",
    "WORKSPACE = f\"gs://{BUCKET}/movielens25m\"\n",
    "\n",
    "MOVIES_DATASET_DISPLAY_NAME = 'movielens25m-movies'\n",
    "RATINGS_DATASET_DISPLAY_NAME = 'movielens25m-ratings'"
   ]
  },
  {
   "cell_type": "code",
   "execution_count": null,
   "id": "bdfe2b31",
   "metadata": {},
   "outputs": [],
   "source": [
    "CLEAN_WORKSPACE = True\n",
    "\n",
    "if CLEAN_WORKSPACE and tf_io.gfile.exists(WORKSPACE):\n",
    "    print(\"Cleaning up the workspace...\")\n",
    "    tf_io.gfile.rmtree(WORKSPACE)\n",
    "\n",
    "if not tf_io.gfile.exists(WORKSPACE):\n",
    "    print(\"Creating a new workspace...\")\n",
    "    tf_io.gfile.mkdir(WORKSPACE)\n",
    "\n",
    "print(\"Workspace is ready.\")"
   ]
  },
  {
   "cell_type": "markdown",
   "id": "32e1f5af",
   "metadata": {},
   "source": [
    "## 1. Copy the Dataset to Cloud Storage"
   ]
  },
  {
   "cell_type": "markdown",
   "id": "9033128c",
   "metadata": {},
   "source": [
    "### Download the dataset"
   ]
  },
  {
   "cell_type": "code",
   "execution_count": null,
   "id": "2e69db2d",
   "metadata": {},
   "outputs": [],
   "source": [
    "download_file(\n",
    "    \"http://files.grouplens.org/datasets/movielens/ml-25m.zip\",\n",
    "    \"ml-25m.zip\"\n",
    ")"
   ]
  },
  {
   "cell_type": "code",
   "execution_count": null,
   "id": "204efe6e",
   "metadata": {},
   "outputs": [],
   "source": [
    "!rm ml-25m.zip\n",
    "!ls ml-25m"
   ]
  },
  {
   "cell_type": "markdown",
   "id": "aee67e91",
   "metadata": {},
   "source": [
    "### Display sample data"
   ]
  },
  {
   "cell_type": "code",
   "execution_count": null,
   "id": "50ca0f40",
   "metadata": {},
   "outputs": [],
   "source": [
    "movies = cudf.read_csv(\"ml-25m/movies.csv\")\n",
    "movies.head()"
   ]
  },
  {
   "cell_type": "code",
   "execution_count": null,
   "id": "8cb727c8",
   "metadata": {},
   "outputs": [],
   "source": [
    "ratings = cudf.read_csv(\"ml-25m/ratings.csv\")\n",
    "ratings.head()"
   ]
  },
  {
   "cell_type": "markdown",
   "id": "5e230efd",
   "metadata": {},
   "source": [
    "### Upload CSV data files to Cloud Storage"
   ]
  },
  {
   "cell_type": "code",
   "execution_count": null,
   "id": "cfcb665c",
   "metadata": {},
   "outputs": [],
   "source": [
    "MOVIES_GCS_LOCATION = os.path.join(WORKSPACE, \"dataset\", \"movies.csv\")\n",
    "RATINGS_GCS_LOCATION = os.path.join(WORKSPACE, \"dataset\", \"ratings.csv\")\n",
    "\n",
    "!gsutil cp ml-25m/movies.csv {MOVIES_GCS_LOCATION}\n",
    "!gsutil cp ml-25m/ratings.csv {RATINGS_GCS_LOCATION}\n",
    "!rm -r ml-25m"
   ]
  },
  {
   "cell_type": "markdown",
   "id": "1ff6b49c",
   "metadata": {},
   "source": [
    "## 2. Create Vertex AI Dataset Resources"
   ]
  },
  {
   "cell_type": "code",
   "execution_count": null,
   "id": "5ecad917",
   "metadata": {},
   "outputs": [],
   "source": [
    "vertex_ai.init(\n",
    "    project=PROJECT,\n",
    "    location=REGION,\n",
    "     staging_bucket=BUCKET,\n",
    ")"
   ]
  },
  {
   "cell_type": "code",
   "execution_count": null,
   "id": "bd185692",
   "metadata": {},
   "outputs": [],
   "source": [
    "vertex_ai.TabularDataset.create(\n",
    "    display_name=MOVIES_DATASET_DISPLAY_NAME, gcs_source=MOVIES_GCS_LOCATION)"
   ]
  },
  {
   "cell_type": "code",
   "execution_count": null,
   "id": "9fa2d607",
   "metadata": {},
   "outputs": [],
   "source": [
    "vertex_ai.TabularDataset.create(\n",
    "    display_name=RATINGS_DATASET_DISPLAY_NAME, gcs_source=RATINGS_GCS_LOCATION)"
   ]
  },
  {
   "cell_type": "code",
   "execution_count": null,
   "id": "b3cb5ac8",
   "metadata": {},
   "outputs": [],
   "source": [
    "vertex_datasets = vertex_ai.TabularDataset.list()\n",
    "for vertex_dataset in vertex_datasets:\n",
    "    print(\"Dataset display name:\", vertex_dataset.display_name)\n",
    "    print(\"Dataset gcs location\",  vertex_dataset.gca_resource.metadata['inputConfig']['gcsSource']['uri'])\n",
    "    print()"
   ]
  },
  {
   "cell_type": "code",
   "execution_count": null,
   "id": "9198e2b3",
   "metadata": {},
   "outputs": [],
   "source": []
  }
 ],
 "metadata": {
  "environment": {
   "name": "common-cu110.m71",
   "type": "gcloud",
   "uri": "gcr.io/deeplearning-platform-release/base-cu110:m71"
  },
  "kernelspec": {
   "display_name": "nvt-11-0",
   "language": "python",
   "name": "nvt-11-0"
  },
  "language_info": {
   "codemirror_mode": {
    "name": "ipython",
    "version": 3
   },
   "file_extension": ".py",
   "mimetype": "text/x-python",
   "name": "python",
   "nbconvert_exporter": "python",
   "pygments_lexer": "ipython3",
   "version": "3.8.10"
  }
 },
 "nbformat": 4,
 "nbformat_minor": 5
}
